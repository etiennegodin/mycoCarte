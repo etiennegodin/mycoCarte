{
 "cells": [
  {
   "cell_type": "code",
   "execution_count": 69,
   "id": "e40360ab",
   "metadata": {},
   "outputs": [],
   "source": [
    "import pandas as pd\n",
    "import seaborn as sns\n",
    "\n",
    "from sklearn.model_selection import GroupKFold, GridSearchCV, KFold\n",
    "from sklearn.ensemble import RandomForestRegressor\n",
    "from sklearn.pipeline import Pipeline\n",
    "from sklearn.compose import ColumnTransformer\n",
    "from sklearn.preprocessing import OneHotEncoder, StandardScaler, QuantileTransformer\n",
    "from sklearn.decomposition import PCA\n",
    "from sklearn.impute import SimpleImputer\n",
    "from sklearn.inspection import permutation_importance, PartialDependenceDisplay\n",
    "from sklearn.metrics import mean_squared_error, r2_score\n",
    "\n",
    "import matplotlib.pyplot as plt\n"
   ]
  },
  {
   "cell_type": "code",
   "execution_count": 70,
   "id": "4c93f5e1",
   "metadata": {},
   "outputs": [],
   "source": [
    "# Utils \n",
    "\n",
    "def dropBiasFeatures(df):\n",
    "    df = df.drop(['populationDensity',\n",
    "                        'distanceToUrban',\n",
    "                        'distanceRo',\n",
    "                        'urbanArea',\n",
    "                        'airesProtegees'\n",
    "                        ], axis = 1)\n",
    "    return df"
   ]
  },
  {
   "cell_type": "code",
   "execution_count": 71,
   "id": "81448388",
   "metadata": {},
   "outputs": [
    {
     "name": "stdout",
     "output_type": "stream",
     "text": [
      "2900\n"
     ]
    }
   ],
   "source": [
    "# 1. Load data\n",
    "\n",
    "df = pd.read_csv(\"/home/egodin/Documents/projects/mycoCarte/data/interim/model/preprocessedAggregatedOccurencesData.csv\", index_col= 0)\n",
    "rows_count = df.shape[0]\n",
    "print(rows_count)\n"
   ]
  },
  {
   "cell_type": "code",
   "execution_count": 72,
   "id": "728b1881",
   "metadata": {},
   "outputs": [
    {
     "name": "stdout",
     "output_type": "stream",
     "text": [
      "[1, 2, 3, 4, 5, 6, 7, 8, 9, 10, 11, 12, 13, 14, 15, 16, 17, 18, 19, 22, 23, 24, 27, 30, 41]\n"
     ]
    }
   ],
   "source": [
    "x = df['fungi_richness'].unique()\n",
    "x = sorted(x)\n",
    "print(x)"
   ]
  },
  {
   "cell_type": "code",
   "execution_count": 73,
   "id": "8be47828",
   "metadata": {},
   "outputs": [
    {
     "data": {
      "image/png": "[encoded data removed]",
      "text/plain": [
       "<Figure size 500x500 with 1 Axes>"
      ]
     },
     "metadata": {},
     "output_type": "display_data"
    }
   ],
   "source": [
    "sns.displot(df, x = 'fungi_richness', kind = 'ecdf')\n",
    "plt.show()"
   ]
  },
  {
   "cell_type": "code",
   "execution_count": 74,
   "id": "f1def24b",
   "metadata": {},
   "outputs": [
    {
     "name": "stdout",
     "output_type": "stream",
     "text": [
      "11.0\n",
      "11\n",
      "Removed 24 rows with fungi_richness over <built-in function max>. Now 2876\n"
     ]
    }
   ],
   "source": [
    "#Prune outliers \n",
    "\n",
    "# Get 99% of data\n",
    "q = df['fungi_richness'].quantile(q = 0.99)\n",
    "print(q)\n",
    "\n",
    "df = df[df.fungi_richness <= q]\n",
    "print(df['fungi_richness'].max())\n",
    "\n",
    "removed_row = rows_count - df.shape[0]\n",
    "print(f'Removed {removed_row} rows with fungi_richness over {max}. Now {df.shape[0]}')\n"
   ]
  },
  {
   "cell_type": "code",
   "execution_count": 75,
   "id": "0a181d48",
   "metadata": {},
   "outputs": [],
   "source": [
    "#Target Variable \n",
    "target = 'fungi_richness'\n",
    "\n",
    "#Removing fungi shannon as it's highly correlated with target \n",
    "#Removing FID as just grid index\n",
    "df = df.drop(['fungi_shannon','FID'], axis = 1)\n",
    "\n",
    "\n",
    "\n",
    "#Split datasets\n",
    "data_with_bias = df \n",
    "data_no_bias = dropBiasFeatures(df)\n"
   ]
  },
  {
   "cell_type": "code",
   "execution_count": 76,
   "id": "08932b9c",
   "metadata": {},
   "outputs": [
    {
     "name": "stdout",
     "output_type": "stream",
     "text": [
      "5\n"
     ]
    }
   ],
   "source": [
    "# 1. Load data\n",
    "# drop block_id, use regionCode for clustering \n",
    "#df = df.drop(['block_id'], axis = 1)\n",
    "\n",
    "spatial_block_feature = 'block_id'\n",
    "#spatial_block_feature = 'regionCode'\n",
    "\n",
    "spatial_block_splits = df[spatial_block_feature].nunique()\n",
    "print(spatial_block_splits)"
   ]
  },
  {
   "cell_type": "code",
   "execution_count": 77,
   "id": "dbc788ea",
   "metadata": {},
   "outputs": [],
   "source": [
    "# User-defined nominal features (only if present in dataset)\n",
    "\n",
    "def get_feature_lists(df):\n",
    "    all_feats = [c for c in df.columns if c not in [target, spatial_block_feature]]\n",
    "    nominal_feats = []\n",
    "    numeric_feats = []\n",
    "    \n",
    "    for col in df.columns:\n",
    "        if col != target:   \n",
    "            if df[col].dtype == 'object':\n",
    "                nominal_feats.append(col) \n",
    "            else:\n",
    "                numeric_feats.append(col)\n",
    "\n",
    "    return nominal_feats, numeric_feats\n"
   ]
  },
  {
   "cell_type": "code",
   "execution_count": 78,
   "id": "de145c0b",
   "metadata": {},
   "outputs": [],
   "source": [
    "def prepare_pipeline(nominal_feats, numeric_feats):\n",
    "    # Numeric: impute + scale\n",
    "    numeric_transformer = Pipeline([\n",
    "        ('imputer', SimpleImputer(strategy='mean')),\n",
    "        ('scaler', StandardScaler())\n",
    "    ])\n",
    "    # Nominal: impute + one-hot\n",
    "    nominal_transformer = Pipeline([\n",
    "        ('imputer', SimpleImputer(strategy='constant', fill_value='missing')),\n",
    "        ('onehot', OneHotEncoder(handle_unknown='ignore', sparse_output=False))\n",
    "    ])\n",
    "    preprocessor = ColumnTransformer([\n",
    "        ('num', numeric_transformer, numeric_feats),\n",
    "        ('nom', nominal_transformer, nominal_feats)\n",
    "    ], remainder='drop')\n",
    "    pipeline = Pipeline([\n",
    "        ('preproc', preprocessor),\n",
    "        ('rf', RandomForestRegressor(random_state=42))\n",
    "    ])\n",
    "    return pipeline\n"
   ]
  },
  {
   "cell_type": "code",
   "execution_count": 79,
   "id": "67a3a25b",
   "metadata": {},
   "outputs": [],
   "source": [
    "# 3. CV schemes and hyperparameters\n",
    "grid_params = {\n",
    "    'rf__n_estimators': [200, 300],\n",
    "    'rf__max_depth': [None, 10, 15]\n",
    "}\n",
    "cv_spatial = GroupKFold(n_splits=spatial_block_splits)\n",
    "cv_strat = KFold(n_splits=spatial_block_splits, shuffle=True, random_state=42)\n",
    "datasets = {'with_bias': data_with_bias, 'no_bias': data_no_bias}\n",
    "results = {}\n"
   ]
  },
  {
   "cell_type": "code",
   "execution_count": 80,
   "id": "ddc2cf6f",
   "metadata": {},
   "outputs": [],
   "source": [
    "# 4. Grid searches\n",
    "def run_searches():\n",
    "    for label, df in datasets.items():\n",
    "        # Dynamic feature lists\n",
    "        nom_feats, num_feats = get_feature_lists(df)\n",
    "        X = df[nom_feats + num_feats].copy()\n",
    "        # Ensure nominal columns are string for uniform encoding\n",
    "        for col in nom_feats:\n",
    "            X[col] = X[col].astype(str)\n",
    "        y = df[target]\n",
    "        groups = df.get(spatial_block_feature, None)\n",
    "\n",
    "        for cv_name, cv in [('random', cv_strat), ('spatial', cv_spatial)]:\n",
    "            pipe = prepare_pipeline(nom_feats, num_feats)\n",
    "            gs = GridSearchCV(pipe, grid_params, cv=cv, scoring='r2', n_jobs=-1)\n",
    "            if cv_name == 'spatial' and groups is not None:\n",
    "                gs.fit(X, y, groups=groups)\n",
    "            else:\n",
    "                gs.fit(X, y)\n",
    "            results[(label, cv_name)] = (gs, nom_feats, num_feats)\n",
    "            "
   ]
  },
  {
   "cell_type": "code",
   "execution_count": 81,
   "id": "dc0485b6",
   "metadata": {},
   "outputs": [],
   "source": [
    "\n",
    "# Run\n",
    "run_searches()\n"
   ]
  },
  {
   "cell_type": "code",
   "execution_count": 82,
   "id": "b6024ba7",
   "metadata": {},
   "outputs": [],
   "source": [
    "def interpretGridSearch(results):\n",
    "    # Model performance \n",
    "    for index, ((label, cv_name), (gs, nom_feats, num_feats)) in enumerate(results.items()):\n",
    "            print(index)\n",
    "            title = f\"=== {label} | {cv_name} ===\"\n",
    "            df = datasets[label]\n",
    "            X = df[nom_feats + num_feats].copy()\n",
    "            for col in nom_feats:\n",
    "                X[col] = X[col].astype(str)\n",
    "            y = df[target]\n",
    "\n",
    "            print(title)\n",
    "            print(\"Best params:\", gs.best_params_)\n",
    "            print(\"Best R²:\", gs.best_score_)\n",
    "\n",
    "            model = gs.best_estimator_\n",
    "            feature_names = model[:-1].get_feature_names_out()\n",
    "            importances = model.named_steps['rf'].feature_importances_\n",
    "            sorted_idx = importances.argsort()[::-1]\n",
    "\n",
    "            top_feature = feature_names[sorted_idx][0]\n",
    "            print(top_feature)\n",
    "            top_feature_pretty = top_feature.split('__')[1]\n",
    "\n",
    "            top_feature_pretty = top_feature\n",
    "\n",
    "            print(feature_names[sorted_idx][:10])\n",
    "            \"\"\"\n",
    "            plt.bar(range(10), importances[sorted_idx][:10])\n",
    "            plt.xticks(range(10), feature_names[sorted_idx][:10])\n",
    "            plt.title(title)\n",
    "            plt.tight_layout()\n",
    "\n",
    "            PartialDependenceDisplay.from_estimator(\n",
    "                model,\n",
    "                X,\n",
    "                features=[top_feature_pretty],  # replace with actual name\n",
    "                feature_names=feature_names,\n",
    "            )\n",
    "\n",
    "\n",
    "            pred = model.predict(X)\n",
    "            residuals = y - pred\n",
    "            plt.figure(figsize=(8, 5))\n",
    "            #sns.scatterplot(x=X[top_feature_pretty], y=residuals)\n",
    "            plt.axhline(0, color='red')\n",
    "            plt.title(f\"Residuals vs {top_feature_pretty}\")\n",
    "            plt.xlabel(top_feature_pretty)\n",
    "            plt.ylabel(\"Residuals\")\n",
    "            \"\"\"\n",
    "            plt.show()\n",
    "\n",
    "\n",
    "\n"
   ]
  },
  {
   "cell_type": "code",
   "execution_count": 83,
   "id": "2732e6fc",
   "metadata": {},
   "outputs": [
    {
     "name": "stdout",
     "output_type": "stream",
     "text": [
      "0\n",
      "=== with_bias | random ===\n",
      "Best params: {'rf__max_depth': 10, 'rf__n_estimators': 200}\n",
      "Best R²: 0.02990927576565916\n",
      "num__bioclim_10\n",
      "['num__bioclim_10' 'num__distanceRo' 'num__populationDensity'\n",
      " 'num__bioclim_03' 'num__tree_shannon_index' 'num__bioclim_15'\n",
      " 'num__tree_diver' 'num__hauteur' 'num__distanceToUrban' 'num__bioclim_01']\n",
      "1\n",
      "=== with_bias | spatial ===\n",
      "Best params: {'rf__max_depth': 10, 'rf__n_estimators': 300}\n",
      "Best R²: -0.3700519800366431\n",
      "num__bioclim_10\n",
      "['num__bioclim_10' 'num__distanceRo' 'num__populationDensity'\n",
      " 'num__bioclim_03' 'num__bioclim_15' 'num__tree_shannon_index'\n",
      " 'num__tree_diver' 'num__hauteur' 'num__bioclim_01' 'num__distanceToUrban']\n",
      "2\n",
      "=== no_bias | random ===\n",
      "Best params: {'rf__max_depth': 10, 'rf__n_estimators': 200}\n",
      "Best R²: 0.03448581759781892\n",
      "num__bioclim_10\n",
      "['num__bioclim_10' 'num__bioclim_15' 'num__tree_shannon_index'\n",
      " 'num__tree_diver' 'num__bioclim_03' 'num__hauteur' 'num__bioclim_01'\n",
      " 'num__cl_age_et' 'num__bioclim_04' 'num__bioclim_08']\n",
      "3\n",
      "=== no_bias | spatial ===\n",
      "Best params: {'rf__max_depth': 10, 'rf__n_estimators': 300}\n",
      "Best R²: -0.4348419614520157\n",
      "num__bioclim_10\n",
      "['num__bioclim_10' 'num__bioclim_15' 'num__tree_diver'\n",
      " 'num__tree_shannon_index' 'num__bioclim_03' 'num__hauteur'\n",
      " 'num__bioclim_01' 'num__cl_age_et' 'num__bioclim_04' 'num__bioclim_02']\n"
     ]
    }
   ],
   "source": [
    "#print(results)\n",
    "if results:\n",
    "    interpretGridSearch(results)"
   ]
  },
  {
   "cell_type": "code",
   "execution_count": 84,
   "id": "801bcf55",
   "metadata": {},
   "outputs": [
    {
     "data": {
      "text/plain": [
       "'\\n\\n\\nInterpretation:\\n\\nIf the PDP for dist_to_road shows a steep drop in predicted “presence probability” as distance increases (e.g., highest probability right by roads, then plummets),\\nthat suggests RF is heavily “learning” the bias.\\n\\nIf the PDP for bio1 shows, say, an optimum at 20 °C, that suggests a true ecological response to temperature.\\n'"
      ]
     },
     "execution_count": 84,
     "metadata": {},
     "output_type": "execute_result"
    }
   ],
   "source": [
    "\"\"\"\n",
    "\n",
    "\n",
    "Interpretation:\n",
    "\n",
    "If the PDP for dist_to_road shows a steep drop in predicted “presence probability” as distance increases (e.g., highest probability right by roads, then plummets),\n",
    "that suggests RF is heavily “learning” the bias.\n",
    "\n",
    "If the PDP for bio1 shows, say, an optimum at 20 °C, that suggests a true ecological response to temperature.\n",
    "\"\"\""
   ]
  },
  {
   "cell_type": "code",
   "execution_count": 85,
   "id": "1b321fc0",
   "metadata": {},
   "outputs": [
    {
     "name": "stdout",
     "output_type": "stream",
     "text": [
      "no_bias - random\n",
      "Pipeline(steps=[('preproc',\n",
      "                 ColumnTransformer(transformers=[('num',\n",
      "                                                  Pipeline(steps=[('imputer',\n",
      "                                                                   SimpleImputer()),\n",
      "                                                                  ('scaler',\n",
      "                                                                   StandardScaler())]),\n",
      "                                                  ['cl_dens', 'cl_haut',\n",
      "                                                   'cl_age_et', 'cl_pent',\n",
      "                                                   'hauteur', 'cl_drai',\n",
      "                                                   'tree_diver',\n",
      "                                                   'tree_shannon_index',\n",
      "                                                   'regionCode', 'bioclim_01',\n",
      "                                                   'bioclim_02', 'bioclim_03',\n",
      "                                                   'bioclim_04', 'bioclim_05',\n",
      "                                                   'bioclim_08', 'bioclim_09',\n",
      "                                                   'bioclim_...12',\n",
      "                                                   'bioclim_15', 'bioclim_16',\n",
      "                                                   'bioclim_17', 'bioclim_18',\n",
      "                                                   'block_id']),\n",
      "                                                 ('nom',\n",
      "                                                  Pipeline(steps=[('imputer',\n",
      "                                                                   SimpleImputer(fill_value='missing',\n",
      "                                                                                 strategy='constant')),\n",
      "                                                                  ('onehot',\n",
      "                                                                   OneHotEncoder(handle_unknown='ignore',\n",
      "                                                                                 sparse_output=False))]),\n",
      "                                                  ['ty_couv_et', 'etagement',\n",
      "                                                   'dep_sur'])])),\n",
      "                ('rf',\n",
      "                 RandomForestRegressor(max_depth=10, n_estimators=200,\n",
      "                                       random_state=42))])\n"
     ]
    }
   ],
   "source": [
    "# Keep best model \n",
    "\n",
    "if results:\n",
    "    best_grid = ()\n",
    "    for index, ((label, cv_name), (gs, nom_feats, num_feats)) in enumerate(results.items()):\n",
    "        grid_title = f\"{label} - {cv_name}\"\n",
    "        if not best_grid:\n",
    "             best_grid = (grid_title, gs)\n",
    "             \n",
    "        if gs.best_score_ > best_grid[1].best_score_:\n",
    "                best_grid = (grid_title,gs)\n",
    "     \n",
    "print(best_grid[0])\n",
    "model = best_grid[1].best_estimator_\n",
    "print(model)\n"
   ]
  },
  {
   "cell_type": "code",
   "execution_count": 86,
   "id": "55de13b7",
   "metadata": {},
   "outputs": [
    {
     "name": "stdout",
     "output_type": "stream",
     "text": [
      "608492\n",
      "No bias model, dropping biases features\n"
     ]
    }
   ],
   "source": [
    "# 1. Load test data\n",
    "\n",
    "test_df = pd.read_csv(\"/home/egodin/Documents/projects/mycoCarte/data/interim/model/testData.csv\", index_col= 0)\n",
    "rows_count = test_df.shape[0]\n",
    "print(rows_count)\n",
    "\n",
    "if 'no_bias' in best_grid[0]:\n",
    "    print('No bias model, dropping biases features')\n",
    "    test_df = dropBiasFeatures(test_df)"
   ]
  },
  {
   "cell_type": "code",
   "execution_count": 87,
   "id": "f74d690d",
   "metadata": {},
   "outputs": [
    {
     "name": "stdout",
     "output_type": "stream",
     "text": [
      "Prediction done on test_data\n",
      "     FID  predicted_fungi_richness\n",
      "264  264                  2.330027\n",
      "265  265                  2.641534\n",
      "266  266                  1.431903\n",
      "267  267                  1.669796\n",
      "268  268                  1.642792\n",
      "Prediction written to disk\n"
     ]
    }
   ],
   "source": [
    "\n",
    "y_pred = model.predict(test_df)\n",
    "print('Prediction done on test_data')\n",
    "\n",
    "test_df['predicted_fungi_richness'] = y_pred\n",
    "out_df = test_df[['FID', 'predicted_fungi_richness']]\n",
    "print(out_df.head())\n",
    "\n",
    "out_df.to_csv('/home/egodin/Documents/projects/mycoCarte/data/output/speciesRichnessPrediction.csv')\n",
    "print('Prediction written to disk')"
   ]
  }
 ],
 "metadata": {
  "kernelspec": {
   "display_name": "mycoCarte",
   "language": "python",
   "name": "python3"
  },
  "language_info": {
   "codemirror_mode": {
    "name": "ipython",
    "version": 3
   },
   "file_extension": ".py",
   "mimetype": "text/x-python",
   "name": "python",
   "nbconvert_exporter": "python",
   "pygments_lexer": "ipython3",
   "version": "3.13.2"
  }
 },
 "nbformat": 4,
 "nbformat_minor": 5
}
